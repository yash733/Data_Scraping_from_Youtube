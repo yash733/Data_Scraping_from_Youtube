{
 "cells": [
  {
   "cell_type": "code",
   "execution_count": 11,
   "id": "ba89d33a-54e6-4399-a814-66bccb16719f",
   "metadata": {},
   "outputs": [],
   "source": [
    "import pandas as pd\n",
    "import numpy as np\n",
    "from tqdm import tqdm"
   ]
  },
  {
   "cell_type": "code",
   "execution_count": 14,
   "id": "f4e80a35-d4be-4bad-9d6a-277d4317520b",
   "metadata": {},
   "outputs": [],
   "source": [
    "data = pd.read_csv('Youtube_GofG_Data_xcel_update.csv')"
   ]
  },
  {
   "cell_type": "code",
   "execution_count": 15,
   "id": "529afb4f-e9ed-47f4-9491-addc07f4a36e",
   "metadata": {},
   "outputs": [
    {
     "name": "stdout",
     "output_type": "stream",
     "text": [
      "<class 'pandas.core.frame.DataFrame'>\n",
      "RangeIndex: 1832 entries, 0 to 1831\n",
      "Data columns (total 10 columns):\n",
      " #   Column           Non-Null Count  Dtype  \n",
      "---  ------           --------------  -----  \n",
      " 0   Unnamed: 0       1830 non-null   float64\n",
      " 1   Title            1830 non-null   object \n",
      " 2   Views_U          1830 non-null   object \n",
      " 3   Views            1830 non-null   object \n",
      " 4   Uploade_Time_U   1830 non-null   object \n",
      " 5   Uploade Time     1830 non-null   object \n",
      " 6   Likes            1830 non-null   object \n",
      " 7   Description      1830 non-null   object \n",
      " 8   Video Link       1830 non-null   object \n",
      " 9   Thumbnail Image  1790 non-null   object \n",
      "dtypes: float64(1), object(9)\n",
      "memory usage: 143.2+ KB\n"
     ]
    }
   ],
   "source": [
    "data.info()"
   ]
  },
  {
   "cell_type": "code",
   "execution_count": 16,
   "id": "4f9e0ce0-5597-43e1-a44e-c0f30c8f06d7",
   "metadata": {},
   "outputs": [
    {
     "data": {
      "text/plain": [
       "0         18\n",
       "1         24\n",
       "2         22\n",
       "3         25\n",
       "4         35\n",
       "        ... \n",
       "1827      80\n",
       "1828      2K\n",
       "1829    1.5K\n",
       "1830     NaN\n",
       "1831     NaN\n",
       "Name: Likes, Length: 1832, dtype: object"
      ]
     },
     "execution_count": 16,
     "metadata": {},
     "output_type": "execute_result"
    }
   ],
   "source": [
    "data['Likes']"
   ]
  },
  {
   "cell_type": "markdown",
   "id": "ba860d5f-b32d-4764-bd40-64356778d26f",
   "metadata": {},
   "source": [
    "### <font color = 'darkpink'>Observation - </font>\n",
    "In likes data is in String Dtype and some with K as abrevation of 1000."
   ]
  },
  {
   "cell_type": "markdown",
   "id": "da86f3ac-6501-469a-8a60-63fe45bc1544",
   "metadata": {},
   "source": [
    "### <font color = 'Green'><i>Plan of action --</i></font>\n",
    "1. remove K\n",
    "2. set data type to float\n",
    "3. X 1000 where K was used so terms like '1.2' can be converted to '1200'"
   ]
  },
  {
   "cell_type": "code",
   "execution_count": null,
   "id": "b06d542c-cfd6-44e2-bc57-25c8fa15e991",
   "metadata": {},
   "outputs": [],
   "source": [
    "lis = [] \n",
    "for index, view in enumerate(data['Likes']):\n",
    "    if view[-1] == 'K':\n",
    "        lis.append(index)\n",
    "        data['Likes'][index] = float(view[:-1])*1000\n",
    "        #print(data['Likes'][view])\n",
    "    else:\n",
    "        pass\n",
    "data['Likes'].astype(int)"
   ]
  },
  {
   "cell_type": "code",
   "execution_count": 18,
   "id": "0f7da31e-be31-4936-b134-d21bf5d84e38",
   "metadata": {},
   "outputs": [
    {
     "data": {
      "text/plain": [
       "0           18\n",
       "1           24\n",
       "2           22\n",
       "3           25\n",
       "4           35\n",
       "         ...  \n",
       "1827        80\n",
       "1828    2000.0\n",
       "1829    1500.0\n",
       "1830       NaN\n",
       "1831       NaN\n",
       "Name: Likes, Length: 1832, dtype: object"
      ]
     },
     "execution_count": 18,
     "metadata": {},
     "output_type": "execute_result"
    }
   ],
   "source": [
    "data['Likes']"
   ]
  },
  {
   "cell_type": "code",
   "execution_count": 36,
   "id": "3ffbbc69-9f72-4668-aa98-d0076732d8e1",
   "metadata": {},
   "outputs": [],
   "source": [
    "data.dropna(inplace = True)"
   ]
  },
  {
   "cell_type": "code",
   "execution_count": 21,
   "id": "c3eca36f-360e-4eed-85bf-4755245b9919",
   "metadata": {},
   "outputs": [],
   "source": [
    "data.drop(columns=[\"Views\",\"Uploade Time\"],inplace = True)"
   ]
  },
  {
   "cell_type": "code",
   "execution_count": 24,
   "id": "3be310a6-e34c-490c-8caa-551a7b481c39",
   "metadata": {},
   "outputs": [],
   "source": [
    "data.rename(columns = {\"Views_U\":\"Views\",\"Uploade_Time_U\":\"Uploade_Time\"}, inplace = True)"
   ]
  },
  {
   "cell_type": "code",
   "execution_count": 34,
   "id": "029f1600-8b57-46d1-8290-c3792a6f363b",
   "metadata": {},
   "outputs": [],
   "source": [
    "data.drop(columns = \"Unnamed: 0\", inplace = True)"
   ]
  },
  {
   "cell_type": "code",
   "execution_count": 37,
   "id": "94d3691f-707c-449d-9abb-b6be88d870c9",
   "metadata": {},
   "outputs": [
    {
     "data": {
      "text/html": [
       "<div>\n",
       "<style scoped>\n",
       "    .dataframe tbody tr th:only-of-type {\n",
       "        vertical-align: middle;\n",
       "    }\n",
       "\n",
       "    .dataframe tbody tr th {\n",
       "        vertical-align: top;\n",
       "    }\n",
       "\n",
       "    .dataframe thead th {\n",
       "        text-align: right;\n",
       "    }\n",
       "</style>\n",
       "<table border=\"1\" class=\"dataframe\">\n",
       "  <thead>\n",
       "    <tr style=\"text-align: right;\">\n",
       "      <th></th>\n",
       "      <th>Title</th>\n",
       "      <th>Views</th>\n",
       "      <th>Uploade_Time</th>\n",
       "      <th>Likes</th>\n",
       "      <th>Description</th>\n",
       "      <th>Video Link</th>\n",
       "      <th>Thumbnail Image</th>\n",
       "    </tr>\n",
       "  </thead>\n",
       "  <tbody>\n",
       "    <tr>\n",
       "      <th>0</th>\n",
       "      <td>Lecture-6 Learn Stability in SORTING - Beginne...</td>\n",
       "      <td>548</td>\n",
       "      <td>Jun 20, 2024</td>\n",
       "      <td>18</td>\n",
       "      <td>#sorting  Mastery: Unveiling the Secret of Sta...</td>\n",
       "      <td>https://www.youtube.com/watch?v=voH3da1RvbA</td>\n",
       "      <td>https://i.ytimg.com/vi/voH3da1RvbA/hqdefault.j...</td>\n",
       "    </tr>\n",
       "    <tr>\n",
       "      <th>1</th>\n",
       "      <td>GeeksforGeeks Classroom Program | Delhi/NCR | ...</td>\n",
       "      <td>1,155</td>\n",
       "      <td>Jun 20, 2024</td>\n",
       "      <td>24</td>\n",
       "      <td>Explore GfG Classroom Programs Near you and vi...</td>\n",
       "      <td>https://www.youtube.com/watch?v=-R64PWJPf2k</td>\n",
       "      <td>https://i.ytimg.com/vi/-R64PWJPf2k/hqdefault.j...</td>\n",
       "    </tr>\n",
       "    <tr>\n",
       "      <th>2</th>\n",
       "      <td>Lecture-5 Mastering Sorting Algorithms with Ja...</td>\n",
       "      <td>933</td>\n",
       "      <td>Jun 18, 2024</td>\n",
       "      <td>22</td>\n",
       "      <td>Master Collection Sort Algorithms (Beginner-Fr...</td>\n",
       "      <td>https://www.youtube.com/watch?v=VSy4TN2jyzE</td>\n",
       "      <td>https://i.ytimg.com/vi/VSy4TN2jyzE/hqdefault.j...</td>\n",
       "    </tr>\n",
       "    <tr>\n",
       "      <th>3</th>\n",
       "      <td>Lecture-4  Arrays.sort() in Java Explained |  ...</td>\n",
       "      <td>861</td>\n",
       "      <td>Jun 15, 2024</td>\n",
       "      <td>25</td>\n",
       "      <td>Level Up Your Coding: Sorting Mastery in Array...</td>\n",
       "      <td>https://www.youtube.com/watch?v=6mwz4JQ6Z50</td>\n",
       "      <td>https://i.ytimg.com/vi/6mwz4JQ6Z50/hqdefault.j...</td>\n",
       "    </tr>\n",
       "    <tr>\n",
       "      <th>4</th>\n",
       "      <td>Lecture-3 Java Sorting Explained: Arrays vs. C...</td>\n",
       "      <td>1,133</td>\n",
       "      <td>Jun 13, 2024</td>\n",
       "      <td>35</td>\n",
       "      <td>Level Up Your Coding: Sorting Mastery in Java ...</td>\n",
       "      <td>https://www.youtube.com/watch?v=mUX5IfNwhjg</td>\n",
       "      <td>https://i.ytimg.com/vi/mUX5IfNwhjg/hqdefault.j...</td>\n",
       "    </tr>\n",
       "    <tr>\n",
       "      <th>...</th>\n",
       "      <td>...</td>\n",
       "      <td>...</td>\n",
       "      <td>...</td>\n",
       "      <td>...</td>\n",
       "      <td>...</td>\n",
       "      <td>...</td>\n",
       "      <td>...</td>\n",
       "    </tr>\n",
       "    <tr>\n",
       "      <th>1825</th>\n",
       "      <td>Length of shortest chain to reach a target wor...</td>\n",
       "      <td>43,118</td>\n",
       "      <td>Apr 1, 2016</td>\n",
       "      <td>156</td>\n",
       "      <td>Explanation for the article: http://www.geeksf...</td>\n",
       "      <td>https://www.youtube.com/watch?v=6pIC20wCm20</td>\n",
       "      <td>https://i.ytimg.com/vi/6pIC20wCm20/hqdefault.j...</td>\n",
       "    </tr>\n",
       "    <tr>\n",
       "      <th>1826</th>\n",
       "      <td>Binary Search | GeeksQuiz</td>\n",
       "      <td>191,389</td>\n",
       "      <td>Mar 28, 2016</td>\n",
       "      <td>840</td>\n",
       "      <td>Explanation for the article: http://geeksquiz....</td>\n",
       "      <td>https://www.youtube.com/watch?v=T2sFYY-fT5o</td>\n",
       "      <td>https://i.ytimg.com/vi/T2sFYY-fT5o/hqdefault.j...</td>\n",
       "    </tr>\n",
       "    <tr>\n",
       "      <th>1827</th>\n",
       "      <td>Number of Triangles in an Undirected Graph | G...</td>\n",
       "      <td>19,229</td>\n",
       "      <td>Mar 7, 2016</td>\n",
       "      <td>80</td>\n",
       "      <td>Explanation for the article: http://www.geeksf...</td>\n",
       "      <td>https://www.youtube.com/watch?v=ChdNz1Ui1uc</td>\n",
       "      <td>https://i.ytimg.com/vi/ChdNz1Ui1uc/hqdefault.j...</td>\n",
       "    </tr>\n",
       "    <tr>\n",
       "      <th>1828</th>\n",
       "      <td>Write a program to print all permutations of a...</td>\n",
       "      <td>487,978</td>\n",
       "      <td>Jan 7, 2016</td>\n",
       "      <td>2000.0</td>\n",
       "      <td>Explanation for the Article: http://www.geeksf...</td>\n",
       "      <td>https://www.youtube.com/watch?v=AfxHGNRtFac</td>\n",
       "      <td>https://i.ytimg.com/vi/AfxHGNRtFac/hqdefault.j...</td>\n",
       "    </tr>\n",
       "    <tr>\n",
       "      <th>1829</th>\n",
       "      <td>Longest Span with same Sum in two Binary array...</td>\n",
       "      <td>300,519</td>\n",
       "      <td>Dec 29, 2015</td>\n",
       "      <td>1500.0</td>\n",
       "      <td>Here's you next clue  - Our comprehensive guid...</td>\n",
       "      <td>https://www.youtube.com/watch?v=xtfj4-r_Ahs</td>\n",
       "      <td>https://i.ytimg.com/vi/xtfj4-r_Ahs/hqdefault.j...</td>\n",
       "    </tr>\n",
       "  </tbody>\n",
       "</table>\n",
       "<p>1790 rows × 7 columns</p>\n",
       "</div>"
      ],
      "text/plain": [
       "                                                  Title    Views  \\\n",
       "0     Lecture-6 Learn Stability in SORTING - Beginne...      548   \n",
       "1     GeeksforGeeks Classroom Program | Delhi/NCR | ...    1,155   \n",
       "2     Lecture-5 Mastering Sorting Algorithms with Ja...      933   \n",
       "3     Lecture-4  Arrays.sort() in Java Explained |  ...      861   \n",
       "4     Lecture-3 Java Sorting Explained: Arrays vs. C...    1,133   \n",
       "...                                                 ...      ...   \n",
       "1825  Length of shortest chain to reach a target wor...   43,118   \n",
       "1826                          Binary Search | GeeksQuiz  191,389   \n",
       "1827  Number of Triangles in an Undirected Graph | G...   19,229   \n",
       "1828  Write a program to print all permutations of a...  487,978   \n",
       "1829  Longest Span with same Sum in two Binary array...  300,519   \n",
       "\n",
       "      Uploade_Time   Likes                                        Description  \\\n",
       "0     Jun 20, 2024      18  #sorting  Mastery: Unveiling the Secret of Sta...   \n",
       "1     Jun 20, 2024      24  Explore GfG Classroom Programs Near you and vi...   \n",
       "2     Jun 18, 2024      22  Master Collection Sort Algorithms (Beginner-Fr...   \n",
       "3     Jun 15, 2024      25  Level Up Your Coding: Sorting Mastery in Array...   \n",
       "4     Jun 13, 2024      35  Level Up Your Coding: Sorting Mastery in Java ...   \n",
       "...            ...     ...                                                ...   \n",
       "1825   Apr 1, 2016     156  Explanation for the article: http://www.geeksf...   \n",
       "1826  Mar 28, 2016     840  Explanation for the article: http://geeksquiz....   \n",
       "1827   Mar 7, 2016      80  Explanation for the article: http://www.geeksf...   \n",
       "1828   Jan 7, 2016  2000.0  Explanation for the Article: http://www.geeksf...   \n",
       "1829  Dec 29, 2015  1500.0  Here's you next clue  - Our comprehensive guid...   \n",
       "\n",
       "                                       Video Link  \\\n",
       "0     https://www.youtube.com/watch?v=voH3da1RvbA   \n",
       "1     https://www.youtube.com/watch?v=-R64PWJPf2k   \n",
       "2     https://www.youtube.com/watch?v=VSy4TN2jyzE   \n",
       "3     https://www.youtube.com/watch?v=6mwz4JQ6Z50   \n",
       "4     https://www.youtube.com/watch?v=mUX5IfNwhjg   \n",
       "...                                           ...   \n",
       "1825  https://www.youtube.com/watch?v=6pIC20wCm20   \n",
       "1826  https://www.youtube.com/watch?v=T2sFYY-fT5o   \n",
       "1827  https://www.youtube.com/watch?v=ChdNz1Ui1uc   \n",
       "1828  https://www.youtube.com/watch?v=AfxHGNRtFac   \n",
       "1829  https://www.youtube.com/watch?v=xtfj4-r_Ahs   \n",
       "\n",
       "                                        Thumbnail Image  \n",
       "0     https://i.ytimg.com/vi/voH3da1RvbA/hqdefault.j...  \n",
       "1     https://i.ytimg.com/vi/-R64PWJPf2k/hqdefault.j...  \n",
       "2     https://i.ytimg.com/vi/VSy4TN2jyzE/hqdefault.j...  \n",
       "3     https://i.ytimg.com/vi/6mwz4JQ6Z50/hqdefault.j...  \n",
       "4     https://i.ytimg.com/vi/mUX5IfNwhjg/hqdefault.j...  \n",
       "...                                                 ...  \n",
       "1825  https://i.ytimg.com/vi/6pIC20wCm20/hqdefault.j...  \n",
       "1826  https://i.ytimg.com/vi/T2sFYY-fT5o/hqdefault.j...  \n",
       "1827  https://i.ytimg.com/vi/ChdNz1Ui1uc/hqdefault.j...  \n",
       "1828  https://i.ytimg.com/vi/AfxHGNRtFac/hqdefault.j...  \n",
       "1829  https://i.ytimg.com/vi/xtfj4-r_Ahs/hqdefault.j...  \n",
       "\n",
       "[1790 rows x 7 columns]"
      ]
     },
     "execution_count": 37,
     "metadata": {},
     "output_type": "execute_result"
    }
   ],
   "source": [
    "data"
   ]
  },
  {
   "cell_type": "code",
   "execution_count": 38,
   "id": "8897cf8a-06d9-47a7-af26-65cd83418da4",
   "metadata": {},
   "outputs": [],
   "source": [
    "data.to_csv(\"Up_GoG_Data.csv\", index = False)"
   ]
  },
  {
   "cell_type": "code",
   "execution_count": null,
   "id": "67ea288a-131d-4116-8cdd-222fe3901f7b",
   "metadata": {},
   "outputs": [],
   "source": []
  }
 ],
 "metadata": {
  "kernelspec": {
   "display_name": "Python 3 (ipykernel)",
   "language": "python",
   "name": "python3"
  },
  "language_info": {
   "codemirror_mode": {
    "name": "ipython",
    "version": 3
   },
   "file_extension": ".py",
   "mimetype": "text/x-python",
   "name": "python",
   "nbconvert_exporter": "python",
   "pygments_lexer": "ipython3",
   "version": "3.9.13"
  }
 },
 "nbformat": 4,
 "nbformat_minor": 5
}
